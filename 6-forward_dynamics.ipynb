{
 "cells": [
  {
   "cell_type": "markdown",
   "id": "233dd361",
   "metadata": {},
   "source": [
    "# Now let's do some forward dynamics !!\n",
    "Forward dynamics is conceptually pretty simple. \n",
    "You have a dynamic model that you inject some internal force (mimicking the effect of muscles and you simulate over time what it does.\n",
    "The main problem is that while it is conceptually very simple, finding useful force values to inject is pretty hard. This is what we investigate in this file.\n",
    "\n",
    "Your goal will be to find a set of muscle activation that keeps the arm still "
   ]
  },
  {
   "cell_type": "markdown",
   "id": "8d1f6926",
   "metadata": {},
   "source": [
    "## Load a previously created bioMod file\n",
    "This first section prepares Python and load a `.bioMod` file as shown in`4-muscular_model`.\n",
    "Please note that for simplicity, we won't use the full body model in here, so this previous file should be run using `use_upper_limb=True`"
   ]
  },
  {
   "cell_type": "code",
   "execution_count": null,
   "id": "21442a02",
   "metadata": {},
   "outputs": [],
   "source": [
    "# So first, let's import all the required modules \n",
    "import biorbd  # This is the core that will do all the calculation\n",
    "import numpy\n",
    "from matplotlib import pyplot\n",
    "from scipy import optimize, integrate"
   ]
  },
  {
   "cell_type": "code",
   "execution_count": null,
   "id": "6202f513",
   "metadata": {},
   "outputs": [],
   "source": [
    "# Import and interpret the bioMod of the full body (created by the script `4-muscular_model` with use_upper_limb set to True)\n",
    "model = biorbd.Model(\"models/SimpleUpperLimbWithMuscles.bioMod\")\n",
    "target_position = (1.20, )\n",
    "\n",
    "# Define some useful variables\n",
    "n_q = model.nbQ()\n",
    "n_muscles = model.nbMuscles()"
   ]
  },
  {
   "cell_type": "markdown",
   "id": "de6e8d14",
   "metadata": {},
   "source": [
    "## Integration\n",
    "The core concept of forward dynamics is that you \"know\" the joint torque (or muscle activation) and you want to infer the implied movement.\n",
    "To do that, one must integrate over time.\n",
    "Unfortunately, there is no exact method to do so, and therefore one must fallback on numerical methods.\n",
    "\n",
    "In this section we are creating different method to integrate, namely Euler integration, RK4 and RK45, and investigate the effect of their choice on the resulting kinematics"
   ]
  },
  {
   "cell_type": "code",
   "execution_count": null,
   "id": "ad2b844d",
   "metadata": {},
   "outputs": [],
   "source": [
    "# Let's first copy the function  to convert activation to joint torque from `5-static_optimization`\n",
    "def muscular_joint_torque(activation, q, qdot):\n",
    "    states = model.stateSet()  # Get the muscle state set\n",
    "    for a, state in zip(activation, states):\n",
    "        state.setActivation(a)  # And fill it with the current value\n",
    "    return model.muscularJointTorque(states, q, qdot).to_array()\n",
    "\n",
    "# Now, let's define a function that takes in a position (q), velocities (qdot) and the joint torques (tau)\n",
    "# and spits out the joint acceleration (qddot) that results from this configuration\n",
    "def forward_dynamics(q, qdot, tau):\n",
    "    return model.ForwardDynamics(q, qdot, tau).to_array()\n",
    "\n",
    "# By combining the two previous function we can now get the acceleration resulting from a specific set of muscle activation\n",
    "def muscular_joint_acceleration(activation, q, qdot):\n",
    "    tau = muscular_joint_torque(activation, q, qdot)\n",
    "    return forward_dynamics(q, qdot, tau)"
   ]
  },
  {
   "cell_type": "code",
   "execution_count": null,
   "id": "a98a6638",
   "metadata": {},
   "outputs": [],
   "source": [
    "# We can now test this muscular_joint_acceleration, assuming the target position without velocity and a set of activation to (0.5, 0.5)\n",
    "q = numpy.array(target_position)\n",
    "qdot = numpy.zeros(q.shape)\n",
    "activation = (0.5, 0.5)\n",
    "print(f\"The joint acceleration resulting from activating the muscles at ({activation} while at position ({q}) with velocity ({qdot}) \" +\n",
    "      f\"is: {muscular_joint_acceleration(activation, q, qdot)}\")"
   ]
  },
  {
   "cell_type": "markdown",
   "id": "ae3b41ac-a513-4bf5-97f8-abfd5b45c419",
   "metadata": {},
   "source": [
    "## What's next?\n",
    "So now we know that the acceleration is not $0m/s/s$ but what does this imply?\n",
    "This implies that at the next \"frame\" the arm will have move. \n",
    "So in one second the velocity will by equal the the previous number.\n",
    "\n",
    "Hum... not so fast...\n",
    "Because as the position changes, so the acceleration because the gravity vector won't act the same on the body.\n",
    "We must therefore slowly move forward in time. \n",
    "\n",
    "The most basic method to do so is the Euler integration method. \n",
    "This method simply consists in adding to a given state at time $t$ ($x_t$) the multiplication of the change rate by the time spent ($\\Delta t$) like so:\n",
    "\\begin{align}\n",
    "x_{t+1} = x_t + \\dot{x} \\Delta t\n",
    "\\end{align}"
   ]
  },
  {
   "cell_type": "code",
   "execution_count": null,
   "id": "5393e554",
   "metadata": {},
   "outputs": [],
   "source": [
    "# So let's write our own euler integration method\n",
    "def euler(dt, x, dot_fun, activation):\n",
    "    return x + dot_fun(x, activation) * dt\n",
    "\n",
    "\n",
    "# So what is x? x is the state vector. In our case, it is both the position (q) and the velocity (qdot)\n",
    "# And dot_fun? dot_fun is a function handler that returns the derivative of x. Let's define it now\n",
    "def x_dot(x, activation):\n",
    "    # The first part of the state vector is q and the second part is qdot\n",
    "    q = x[:n_q]\n",
    "    qdot = x[n_q:]\n",
    "    \n",
    "    # The derivative of q is simply qdot\n",
    "    # The derivative of qdot is given by muscular_joint_acceleration assuming a given set of muscle activation\n",
    "    xdot = numpy.array((qdot, muscular_joint_acceleration(activation, q, qdot)))[:, 0]\n",
    "    return xdot    \n",
    "\n",
    "\n",
    "# Now assuming some initial values, we can perform the integration up to a required final time\n",
    "def perform_integration(final_time, dt, x_initial, x_dot_fun, activation, integration_fun):\n",
    "    time_vector = [0.]\n",
    "    all_x = [x_initial]\n",
    "    while time_vector[-1] <= final_time:  # As long as we did not get to the final time continue\n",
    "        time_vector.append(time_vector[-1] + dt)  # The next time is dt later\n",
    "        all_x.append(integration_fun(dt, x_initial, x_dot_fun, activation))  # Integrate\n",
    "        x_initial = all_x[-1]  # The next x is the arrival state of the previous integration\n",
    "\n",
    "    # Format the time vector and the x so they are easier to use\n",
    "    time_vector = numpy.array(time_vector)\n",
    "    all_x = numpy.array(all_x).transpose()\n",
    "    \n",
    "    return time_vector, all_x"
   ]
  },
  {
   "cell_type": "code",
   "execution_count": null,
   "id": "c3ae0257",
   "metadata": {},
   "outputs": [],
   "source": [
    "# To test the function, we just have to set a dt, some initial value and a set of muscle activation of (10% and 0% for Biceps and Triceps respectively\n",
    "# and to repeat for a number of time\n",
    "\n",
    "final_time = 2  # Stop at 2 seconds\n",
    "dt = 0.1\n",
    "x = numpy.concatenate((target_position, numpy.zeros(n_q)))\n",
    "activation = numpy.array((0.1, 0.0001))\n",
    "time_vector_euler, all_x_euler = perform_integration(final_time, dt, x, x_dot, activation, euler)"
   ]
  },
  {
   "cell_type": "code",
   "execution_count": null,
   "id": "c31a3bdd-82ab-4cb9-9540-573098ce1fa7",
   "metadata": {},
   "outputs": [],
   "source": [
    "# The easiest way to see what happens is to actually animates it \n",
    "# We can use bioviz to do so. Again, this comes with the jupyter limitations\n",
    "import bioviz\n",
    "\n",
    "# Send the previously loaded model to the vizualizer\n",
    "viz = bioviz.Viz(loaded_model=model)\n",
    "\n",
    "# Move the model to a recognizable position (arm raised and knee flexed)\n",
    "viz.load_movement(all_x_euler[:n_q, :])\n",
    "\n",
    "# Halt the program so you can admire the movement with the vizualiser. Closing the window should allow to continue\n",
    "viz.exec()"
   ]
  },
  {
   "cell_type": "markdown",
   "id": "6f5a0fbc-f015-4d57-a4b2-6845c519bda5",
   "metadata": {},
   "source": [
    "## What is going on?\n",
    "So we see that the arm is slowly falling and tries to get back. \n",
    "This basically means that $10\\%$ activation for the biceps was not enough to keep the arm raised.\n",
    "You can try to find the actual best solution by changing the `activation` vector.\n",
    "\n",
    "## What's next?\n",
    "So now that we have a rudimentary integrator, we can push things a little further. \n",
    "Euler integration method is actually very poor. \n",
    "It can perform well on very small time step ($\\Delta t$) integrated over a small amount of time. \n",
    "But this method is highly susceptible to drift and integration error, particularly in non-linear systems.\n",
    "So a better way to do the integration is to do it using the runge-kutta method.\n",
    "\n",
    "The runge-kutta (RK) is conceptually the same thing as euler method, but including extra points over the integration period so it corrects itself in the case it is not going in the right direction.\n",
    "Is this complicated to implement? Let's build our own 4th order runge-kutta (the so-called `rk4`) to see."
   ]
  },
  {
   "cell_type": "code",
   "execution_count": null,
   "id": "e3d06b80-93a7-4c49-a595-a7ba3da862e7",
   "metadata": {},
   "outputs": [],
   "source": [
    "def rk4(dt, x, dot_fun, activation):\n",
    "    k1 = dot_fun(x, activation)\n",
    "    k2 = dot_fun(x + dt / 2 * k1, activation)\n",
    "    k3 = dot_fun(x + dt / 2 * k2, activation)\n",
    "    k4 = dot_fun(x + dt * k3, activation)\n",
    "    return x + dt / 6 * (k1 + 2 * k2 + 2 * k3 + k4)"
   ]
  },
  {
   "cell_type": "code",
   "execution_count": null,
   "id": "3866d9d2-b160-4ec6-a879-509e8f9f7363",
   "metadata": {},
   "outputs": [],
   "source": [
    "# And now perform the same integration as before, but integrate using rk4\n",
    "final_time = 2  # Stop at 1 second\n",
    "dt = 0.1\n",
    "x = numpy.concatenate((target_position, numpy.zeros(n_q)))\n",
    "activation = (0.1, 0.0001)\n",
    "time_vector_rk4, all_x_rk4 = perform_integration(final_time, dt, x, x_dot, activation, rk4)"
   ]
  },
  {
   "cell_type": "code",
   "execution_count": null,
   "id": "5771fca2-2304-4824-8d24-d764e2cd96b7",
   "metadata": {},
   "outputs": [],
   "source": [
    "# The easiest way to see what happens is to actually animates it \n",
    "# We can use bioviz to do so. Again, this comes with the jupyter limitations\n",
    "import bioviz\n",
    "\n",
    "# Send the previously loaded model to the vizualizer\n",
    "viz = bioviz.Viz(loaded_model=model)\n",
    "\n",
    "# Move the model to a recognizable position (arm raised and knee flexed)\n",
    "viz.load_movement(all_x_rk4[:n_q, :])\n",
    "\n",
    "# Halt the program so you can admire the movement with the vizualiser. Closing the window should allow to continue\n",
    "viz.exec()"
   ]
  },
  {
   "cell_type": "code",
   "execution_count": null,
   "id": "783ebe36-14fa-4a4d-8b7c-c19d19a35dbe",
   "metadata": {},
   "outputs": [],
   "source": [
    "# And just so you know, rk are pretty common and are generally implemented in linear algebra toolboxes\n",
    "# Here is an example using scipy and its implementation of rk45 (which would replace the perform optimization from before)\n",
    "def x_dot_interface(t, x):\n",
    "    return x_dot(x, activation)\n",
    "\n",
    "final_time = 2  # Stop at 2 seconds\n",
    "x = numpy.concatenate((target_position, numpy.zeros(n_q)))\n",
    "activation = numpy.array((0.1, 0.0001))\n",
    "time_vector_euler, all_x_euler = perform_integration(final_time, dt, x, x_dot, activation, euler)\n",
    "results = integrate.solve_ivp(x_dot_interface, [0, final_time], x)\n",
    "time_vector_rk45 = results.t\n",
    "all_x_rk45 = results.y"
   ]
  },
  {
   "cell_type": "code",
   "execution_count": null,
   "id": "2d7809b3-e2af-44b6-9d4c-7f2e239c1cb9",
   "metadata": {},
   "outputs": [],
   "source": [
    "# We can now compare the two integrations on the same graph\n",
    "pyplot.figure()\n",
    "pyplot.plot(time_vector_euler, all_x_euler[0, :])\n",
    "pyplot.plot(time_vector_rk4, all_x_rk4[0, :])\n",
    "pyplot.plot(time_vector_rk45, all_x_rk45[0, :])\n",
    "pyplot.legend((\"Euler\", \"RK4\", \"RK45\"))\n",
    "pyplot.ylabel(\"Angle (rad)\")\n",
    "pyplot.xlabel(\"Time (s)\")"
   ]
  },
  {
   "cell_type": "markdown",
   "id": "e4710c95-a8f2-44ae-9e82-2ef70db495c7",
   "metadata": {},
   "source": [
    "## What there is to look at?\n",
    "The difference between them is quite large. \n",
    "When they are performing more or less the same shape, the actual values are wrong, showing how poorly Euler's method behaves.\n",
    "I invite you to change the $\\Delta t$ of the Euler's method to see how small it needs to be similar to RK4. \n",
    "Remember that the smaller it is, the more calls `muscular_joint_acceleration` are made.\n",
    "While for such a small model we don't really mind, for larger models in an optimisation setting this can be the difference between minutes and weeks of optimization time\n",
    "\n",
    "## Are we done yet?\n",
    "Last but not least... I told you before your goal would be to find the actual value for the activation so the arm remains static.\n",
    "You have two choices to do so: first you go by trial and error, or second you let the computer finds. \n",
    "Let's do the second using an optimization scheme."
   ]
  },
  {
   "cell_type": "code",
   "execution_count": null,
   "id": "fe05507e-502a-4f55-84ab-2fbf830b6c10",
   "metadata": {},
   "outputs": [],
   "source": [
    "# Let's define the global parameters of the movement\n",
    "final_time = 2  # Stop at 2 seconds\n",
    "dt = 0.1\n",
    "states = list(target_position) + [0] * n_q  # q and qdot\n",
    "controls = [0.1, 0.0001]  # muscle activation\n",
    "initial_guess = numpy.array(states + controls)  # The actual optimization variables sent to the optimizer\n",
    "integration_method = rk4\n",
    "x_dot_fun = x_dot\n",
    "\n",
    "bounds = ((-2*numpy.pi, 2*numpy.pi),) * n_q + ((-20*numpy.pi, 20*numpy.pi),) * n_q + ((0.001, 0.999),) * n_muscles\n",
    "\n",
    "def lagrange_cost_function(x):\n",
    "    # Perform the integration over time and compare the position with the target at each integration points (the so-called node)\n",
    "    states = x[:n_q*2]\n",
    "    controls = numpy.array(x[n_q*2:])\n",
    "    t, x_integrated = perform_integration(final_time, dt, states, x_dot_fun, controls, integration_method)\n",
    "    return numpy.sum((x_integrated[:n_q] - numpy.array(target_position)) ** 2)\n",
    "\n",
    "\n",
    "results = optimize.minimize(lagrange_cost_function, initial_guess, bounds=bounds)\n",
    "optimized_states = results.x[:n_q*2]\n",
    "optimized_controls = results.x[n_q*2:]"
   ]
  },
  {
   "cell_type": "code",
   "execution_count": null,
   "id": "57ad4281-ff1f-4281-912d-1bc7a8bbb2ec",
   "metadata": {},
   "outputs": [],
   "source": [
    "# Using the previous results, let's integrate one last time and graph the results\n",
    "t, x = perform_integration(final_time, dt, optimized_states, x_dot_fun, optimized_controls, integration_method)\n",
    "q_optimized = x[:n_q, :]\n",
    "\n",
    "pyplot.figure()\n",
    "pyplot.plot(t, q_optimized[0, :])\n",
    "pyplot.ylim((0, numpy.pi))\n",
    "pyplot.ylabel(\"Angle (rad)\")\n",
    "pyplot.xlabel(\"Time (s)\")\n"
   ]
  },
  {
   "cell_type": "markdown",
   "id": "0c2961b4-cbe7-4bcd-95c8-2dd97ad6a757",
   "metadata": {},
   "source": [
    "## Final thoughts\n",
    "What we have performed here is a (very) simple version of what is called optimal control, that is finding the controls (for instance muscle activation) that minimizes some criteria and that usually respect some bounds and constraints. \n",
    "It is a vast topic and it gets complicated very quickly. \n",
    "\n",
    "For those who are interested, the `bioptim` toolbox is an optimal control toolbox based on `biorbd` designed to perform this kind of biomechanics data analyses. \n",
    "For instance, one can generate movements _ex nihilo_, find the muscle activations that fits an pre-acquired kinematics, etc. \n",
    "The possilibity are vast and we strongly encourage you to explore it.\n",
    "\n",
    "For now, we are done, and we hope you learn something good!"
   ]
  }
 ],
 "metadata": {
  "kernelspec": {
   "display_name": "Python 3 (ipykernel)",
   "language": "python",
   "name": "python3"
  },
  "language_info": {
   "codemirror_mode": {
    "name": "ipython",
    "version": 3
   },
   "file_extension": ".py",
   "mimetype": "text/x-python",
   "name": "python",
   "nbconvert_exporter": "python",
   "pygments_lexer": "ipython3",
   "version": "3.9.12"
  }
 },
 "nbformat": 4,
 "nbformat_minor": 5
}
